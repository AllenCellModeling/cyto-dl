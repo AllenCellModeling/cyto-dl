{
 "cells": [
  {
   "cell_type": "code",
   "execution_count": 1,
   "id": "d83c53fe",
   "metadata": {},
   "outputs": [],
   "source": [
    "from hydra.utils import instantiate\n",
    "import yaml\n",
    "import torch\n",
    "import numpy as np\n",
    "import torch\n",
    "from sklearn.manifold import TSNE\n",
    "import matplotlib.pyplot as plt\n",
    "from torch.utils.data import Dataset, DataLoader\n",
    "from PIL import Image\n",
    "import aics_shape_modes"
   ]
  },
  {
   "cell_type": "code",
   "execution_count": 2,
   "id": "47a0d800",
   "metadata": {},
   "outputs": [],
   "source": [
    "# config = yaml.safe_load('''\n",
    "# _target_: aics_im2im.models.vae.ImageVAE\n",
    "\n",
    "# latent_dim: 256\n",
    "# spatial_dims: 3\n",
    "# in_shape: [1, 32, 32, 32]\n",
    "# out_channels: 1\n",
    "# channels: [2, 2, 2, 2]\n",
    "# strides: [1, 1, 1, 1]\n",
    "\n",
    "# x_label: image\n",
    "# id_label: null\n",
    "\n",
    "# kernel_size: 3\n",
    "# up_kernel_size: 3\n",
    "# num_res_units: 0\n",
    "# act: relu\n",
    "# norm: batch\n",
    "# dropout: null\n",
    "# bias: false\n",
    "# beta: 1.0\n",
    "\n",
    "# reconstruction_loss:\n",
    "#   _target_: torch.nn.modules.loss.MSELoss\n",
    "#   reduction: sum\n",
    "\n",
    "# encoder_out_size: 256\n",
    "# prior:\n",
    "#   _target_: aics_im2im.models.vae.priors.IdentityPrior\n",
    "#   dimensionality: 256\n",
    "\n",
    "# use_sigmoid: False\n",
    "\n",
    "# optimizer:\n",
    "#   _partial_: true\n",
    "#   _target_: torch.optim.adam.Adam\n",
    "#   lr: 0.001\n",
    "# ''')\n",
    "# model = instantiate(config)"
   ]
  },
  {
   "cell_type": "code",
   "execution_count": 2,
   "id": "52b06dab",
   "metadata": {},
   "outputs": [
    {
     "name": "stderr",
     "output_type": "stream",
     "text": [
      "22-Mar-23 11:33:30 - bfio.backends - WARNING  - Java backend is not available. This could be due to a missing dependency (jpype).\n"
     ]
    }
   ],
   "source": [
    "from aics_im2im.models.utils.mlflow import load_model_from_checkpoint\n",
    "\n",
    "model = load_model_from_checkpoint(\"https://mlflow.a100.int.allencell.org\", \"51f89d15916a4c91b5692ecf4bea174e\"\n",
    "                                  , path = \"checkpoints/val loss/best.ckpt\", strict=False)\n",
    "# 9a6c049844434b448786c82cd26db811 # npm1\n",
    "# cce7b70ea6a64b1f8de36fa434089863 # mem"
   ]
  },
  {
   "cell_type": "code",
   "execution_count": 3,
   "id": "338992ed",
   "metadata": {},
   "outputs": [],
   "source": [
    "device = \"cuda:0\"\n",
    "model = model.to(device)\n",
    "model = model.eval()"
   ]
  },
  {
   "cell_type": "code",
   "execution_count": 5,
   "id": "b1349f17",
   "metadata": {},
   "outputs": [],
   "source": [
    "config = yaml.safe_load('''\n",
    "_target_: aics_im2im.datamodules.DataframeDatamodule\n",
    "_convert_: all\n",
    "\n",
    "path: /allen/aics/assay-dev/users/Alex/handoff/ritvik/npm_manifest_with_sdfs.csv\n",
    "split_column: split\n",
    "\n",
    "batch_size: 1\n",
    "num_workers: 1\n",
    "multiprocessing_context: spawn\n",
    "persistent_workers: true\n",
    "\n",
    "transforms:\n",
    "  - _target_: aics_im2im.dataframe.transforms.GroupCols\n",
    "    groups:\n",
    "      image: sdf_path_align_3dnuc\n",
    "      cell_id: CellId\n",
    "  - _target_: aics_im2im.image.io.ReadNumpyFile\n",
    "    keys: image\n",
    "    remote: false\n",
    "    clip_min: -2\n",
    "    clip_max: 2 \n",
    "''')\n"
   ]
  },
  {
   "cell_type": "code",
   "execution_count": 6,
   "id": "9caf7363",
   "metadata": {},
   "outputs": [],
   "source": [
    "from aics_im2im.datamodules.dataframe import MNISTDataModule"
   ]
  },
  {
   "cell_type": "code",
   "execution_count": 7,
   "id": "fb1b3a34",
   "metadata": {
    "scrolled": true
   },
   "outputs": [],
   "source": [
    "data = instantiate(config)\n",
    "train_dl = data.train_dataloader()\n",
    "batch = next(iter(train_dl))"
   ]
  },
  {
   "cell_type": "code",
   "execution_count": 11,
   "id": "26fe3476",
   "metadata": {},
   "outputs": [],
   "source": [
    "# from aics_shape_modes.represent_3d import get_mesh_from_sdf\n",
    "# img = batch['image'][1][0].detach().cpu().numpy()\n",
    "# # img = (img - img.min())/(img.max() - img.min())\n",
    "# mesh = get_mesh_from_sdf(img)\n",
    "# mesh.save('test.ply')"
   ]
  },
  {
   "cell_type": "code",
   "execution_count": 45,
   "id": "0d102a4e",
   "metadata": {},
   "outputs": [],
   "source": [
    "# import nbvv\n",
    "# # nbvv.volshow(all_x_r['image'][0][0].detach().cpu().numpy(), spacing=(1.0, 1.0, 1),channel_names=['1'])\n",
    "# nbvv.volshow(img, spacing=(1.0, 1.0, 1.0),channel_names=['1'])"
   ]
  },
  {
   "cell_type": "code",
   "execution_count": 8,
   "id": "bc361bf2",
   "metadata": {
    "scrolled": true
   },
   "outputs": [
    {
     "name": "stderr",
     "output_type": "stream",
     "text": [
      "100%|███████████████████████████████████████████████████████████████████████████████████████████████████████████████████████████████████████████████████████████████████████| 8272/8272 [00:17<00:00, 476.06it/s]\n"
     ]
    }
   ],
   "source": [
    "import pandas as pd\n",
    "df = pd.read_csv('/allen/aics/assay-dev/users/Alex/handoff/ritvik/npm_manifest_with_sdfs.csv')\n",
    "from tqdm import tqdm\n",
    "\n",
    "all_data_inputs = []\n",
    "all_data_ids = []\n",
    "all_inputs = []\n",
    "count = 0\n",
    "for i in tqdm(train_dl, total=len(train_dl)):\n",
    "#     if count > 9000:\n",
    "#         break\n",
    "    count += 1\n",
    "    all_data_ids.append(i['cell_id'])\n",
    "    all_inputs.append(i)"
   ]
  },
  {
   "cell_type": "code",
   "execution_count": 9,
   "id": "3053e05e",
   "metadata": {
    "scrolled": true
   },
   "outputs": [],
   "source": [
    "all_data_ids = [item for sublist in all_data_ids for item in sublist]"
   ]
  },
  {
   "cell_type": "code",
   "execution_count": 10,
   "id": "88ee3c39",
   "metadata": {},
   "outputs": [
    {
     "data": {
      "text/plain": [
       "array([1215])"
      ]
     },
     "execution_count": 10,
     "metadata": {},
     "output_type": "execute_result"
    }
   ],
   "source": [
    "np.where(np.array(all_data_ids) == '955601-NPM')[0]\n",
    "# np.where(np.array(all_data_ids) == '668466-NPM')[0]"
   ]
  },
  {
   "cell_type": "code",
   "execution_count": 12,
   "id": "c3fce340",
   "metadata": {
    "scrolled": true
   },
   "outputs": [],
   "source": [
    "batch = all_inputs[1215]"
   ]
  },
  {
   "cell_type": "code",
   "execution_count": 55,
   "id": "96915cd2",
   "metadata": {},
   "outputs": [
    {
     "name": "stdout",
     "output_type": "stream",
     "text": [
      "tensor(-1.1256) tensor(2.) tensor(1.9342)\n"
     ]
    }
   ],
   "source": [
    "for i in range(1):\n",
    "    print(batch['image'][i].min(), batch['image'][i].max(), batch['image'][i].mean())"
   ]
  },
  {
   "cell_type": "code",
   "execution_count": 15,
   "id": "0876efb3",
   "metadata": {},
   "outputs": [
    {
     "name": "stderr",
     "output_type": "stream",
     "text": [
      "Global seed set to 42\n"
     ]
    }
   ],
   "source": [
    "import pytorch_lightning as pl\n",
    "import torchvision\n",
    "pl.seed_everything(42)\n",
    "\n",
    "def rotate(matrix, deg_angle, axis):\n",
    "    d = len(matrix)\n",
    "    h = len(matrix[0])\n",
    "    w = len(matrix[0][0])\n",
    "    min_new_x = 0\n",
    "    max_new_x = 0\n",
    "    min_new_y = 0\n",
    "    max_new_y = 0\n",
    "    min_new_z = 0\n",
    "    max_new_z = 0\n",
    "    new_coords = []\n",
    "    angle = radians(deg_angle)\n",
    "\n",
    "    for z in range(d):\n",
    "        for y in range(h):\n",
    "            for x in range(w):\n",
    "\n",
    "                new_x = None\n",
    "                new_y = None\n",
    "                new_z = None\n",
    "\n",
    "                if axis == \"x\":\n",
    "                    new_x = int(round(x))\n",
    "                    new_y = int(round(y*cos(angle) - z*sin(angle)))\n",
    "                    new_z = int(round(y*sin(angle) + z*cos(angle)))\n",
    "                elif axis == \"y\":\n",
    "                    new_x = int(round(z*sin(angle) + x*cos(angle)))\n",
    "                    new_y = int(round(y))\n",
    "                    new_z = int(round(z*cos(angle) - x*sin(angle)))\n",
    "                elif axis == \"z\":\n",
    "                    new_x = int(round(x*cos(angle) - y*sin(angle)))\n",
    "                    new_y = int(round(x*sin(angle) + y*cos(angle)))\n",
    "                    new_z = int(round(z))\n",
    "\n",
    "                val = matrix.item((z, y, x))\n",
    "                new_coords.append((val, new_x, new_y, new_z))\n",
    "                if new_x < min_new_x: min_new_x = new_x\n",
    "                if new_x > max_new_x: max_new_x = new_x\n",
    "                if new_y < min_new_y: min_new_y = new_y\n",
    "                if new_y > max_new_y: max_new_y = new_y\n",
    "                if new_z < min_new_z: min_new_z = new_z\n",
    "                if new_z > max_new_z: max_new_z = new_z\n",
    "\n",
    "    new_x_offset = abs(min_new_x)\n",
    "    new_y_offset = abs(min_new_y)\n",
    "    new_z_offset = abs(min_new_z)\n",
    "\n",
    "    new_width = abs(min_new_x - max_new_x)\n",
    "    new_height = abs(min_new_y - max_new_y)\n",
    "    new_depth = abs(min_new_z - max_new_z)\n",
    "\n",
    "    rotated = np.empty((new_depth + 1, new_height + 1, new_width + 1))\n",
    "    rotated.fill(0)\n",
    "    for coord in new_coords:\n",
    "        val = coord[0]\n",
    "        x = coord[1]\n",
    "        y = coord[2]\n",
    "        z = coord[3]\n",
    "\n",
    "        if rotated[new_z_offset + z][new_y_offset + y][new_x_offset + x] == 0:\n",
    "            rotated[new_z_offset + z][new_y_offset + y][new_x_offset + x] = val\n",
    "\n",
    "    matrix = rotated\n",
    "    return matrix"
   ]
  },
  {
   "cell_type": "code",
   "execution_count": 16,
   "id": "d7143583",
   "metadata": {
    "scrolled": true
   },
   "outputs": [],
   "source": [
    "# batch = next(iter(train_dl))"
   ]
  },
  {
   "cell_type": "code",
   "execution_count": 17,
   "id": "c498f493",
   "metadata": {},
   "outputs": [
    {
     "name": "stdout",
     "output_type": "stream",
     "text": [
      "955601-NPM\n"
     ]
    }
   ],
   "source": [
    "from math import radians, cos, sin\n",
    "import torchio\n",
    "\n",
    "x =  batch['image'][0]\n",
    "try:\n",
    "    cell_id = str(batch['cell_id'][0].item())\n",
    "except:\n",
    "    cell_id = batch['cell_id'][0]\n",
    "print(cell_id)\n",
    "\n",
    "# x =  dl['image'][0]\n",
    "in_x_2 = x.cpu().numpy()\n",
    "\n",
    "\n",
    "size =32\n",
    "resize = torchio.transforms.Resize(target_shape=size)\n",
    "\n",
    "all_x_r = []\n",
    "for channel in range(1):\n",
    "    in_x = in_x_2[channel]\n",
    "    x_r = np.concatenate((\n",
    "        resize(np.expand_dims(rotate(in_x, 0*90, 'z'), axis=0)),\n",
    "#         resize(np.expand_dims(rotate(in_x, 0.5*90, 'z'), axis=0)),\n",
    "        resize(np.expand_dims(rotate(in_x, 1*90, 'z'), axis=0)),\n",
    "#         resize(np.expand_dims(rotate(in_x, 1.5*90, 'z'), axis=0)),\n",
    "        resize(np.expand_dims(rotate(in_x, 2*90, 'z'), axis=0)),\n",
    "#         resize(np.expand_dims(rotate(in_x, 2.5*90, 'z'), axis=0)),\n",
    "        resize(np.expand_dims(rotate(in_x, 3*90, 'z'), axis=0)),\n",
    "#         resize(np.expand_dims(rotate(in_x, 3.5*90, 'z'), axis=0))\n",
    "), axis=0)\n",
    "    all_x_r.append(x_r)\n",
    "all_x_r = np.stack(all_x_r, axis=1) \n",
    "all_x_r = torch.tensor(all_x_r)"
   ]
  },
  {
   "cell_type": "code",
   "execution_count": 18,
   "id": "07809354",
   "metadata": {},
   "outputs": [],
   "source": [
    "all_x_r = all_x_r.float()"
   ]
  },
  {
   "cell_type": "code",
   "execution_count": 19,
   "id": "289425fd",
   "metadata": {},
   "outputs": [],
   "source": [
    "import numpy as np\n",
    "from meshpy.tet import MeshInfo, build\n",
    "import numpy as np\n",
    "from ipygany import Scene, TetraMesh\n",
    "import numpy as np\n",
    "import mcubes\n",
    "from skimage import measure\n",
    "\n",
    "\n",
    "def export_mesh(img_in, filename):\n",
    "    # Extract the 0-isosurface\n",
    "    # vertices, triangles = mcubes.marching_cubes(img3,0.5)\n",
    "    vertices, triangles = mcubes.marching_cubes(img_in,0.5)\n",
    "#     vertices, triangles = mcubes.marching_cubes(img_in,0)\n",
    "#     vertices, triangles, _, _ = measure.marching_cubes(img_in, 0)\n",
    "\n",
    "    # Export the result to sphere.dae\n",
    "    # mcubes.export_mesh(vertices, triangles, \"sphere.dae\", \"MySphere\")\n",
    "    mcubes.export_obj(vertices, triangles, f'meshes/{filename}.obj')\n",
    "\n",
    "    vert_list = []\n",
    "    for i in range(vertices.shape[0]):\n",
    "        vert_list.append(list(vertices[i]))\n",
    "    triangles_list = []\n",
    "    for i in range(triangles.shape[0]):\n",
    "        triangles_list.append(list(triangles[i]))\n",
    "\n",
    "    mesh_info = MeshInfo()\n",
    "    mesh_info.set_points(vert_list)\n",
    "    mesh_info.set_facets(triangles_list)\n",
    "    mesh = build(mesh_info)\n",
    "\n",
    "    # Normalize mesh for viz\n",
    "\n",
    "    norm_verts = (vertices - vertices.mean(axis=0))/(vertices.std(axis=0))\n",
    "\n",
    "    vert_list = []\n",
    "    for i in range(vertices.shape[0]):\n",
    "        vert_list.append([list(norm_verts[i])[2], list(norm_verts[i])[1], list(norm_verts[i])[0]])\n",
    "    triangles_list = []\n",
    "    for i in range(triangles.shape[0]):\n",
    "        triangles_list.append(list(triangles[i]))\n",
    "    vertices_norm = np.stack(vert_list, axis=0)\n",
    "    mcubes.export_obj(vertices_norm, triangles, f'meshes/{filename}_norm.obj')"
   ]
  },
  {
   "cell_type": "code",
   "execution_count": 20,
   "id": "f96800a8",
   "metadata": {},
   "outputs": [],
   "source": [
    "import vtk\n",
    "import numpy as np\n",
    "from vtk.util import numpy_support\n",
    "import pyvista as pv\n",
    "import trimesh\n",
    "import pyacvd\n",
    "import pandas as pd\n",
    "from skimage.measure import marching_cubes\n",
    "\n",
    "def get_mesh_from_sdf(sdf, method=\"skimage\"):\n",
    "    \"\"\"\n",
    "    This function reconstructs a mesh from signed distance function\n",
    "    values using the marching cubes algorithm. \n",
    "    Parameters\n",
    "    ----------\n",
    "    sdf : np.array\n",
    "        3D array of shape (N,N,N) \n",
    "    Returns\n",
    "    -------\n",
    "    mesh : pyvista.PolyData\n",
    "        Reconstructed mesh\n",
    "    \"\"\"\n",
    "    if method == \"skimage\":\n",
    "        try:\n",
    "            vertices, faces, normals, _ = marching_cubes(sdf, level=0)\n",
    "            vert_list = []\n",
    "            for i in range(vertices.shape[0]):\n",
    "                vert_list.append(list(vertices[i]))\n",
    "\n",
    "            norm_verts = (vertices - vertices.mean(axis=0))/(vertices.std(axis=0))\n",
    "\n",
    "            vert_list = []\n",
    "            for i in range(vertices.shape[0]):\n",
    "                vert_list.append([list(norm_verts[i])[2], list(norm_verts[i])[1], list(norm_verts[i])[0]])\n",
    "            mesh = trimesh.Trimesh(vertices=norm_verts, faces=faces, vertex_normals=normals)\n",
    "        except: \n",
    "            print('empty')\n",
    "            # empty mesh\n",
    "            mesh = pv.PolyData()\n",
    "    else:\n",
    "        raise NotImplementedError\n",
    "\n",
    "    mesh = pv.wrap(mesh)\n",
    "    return mesh"
   ]
  },
  {
   "cell_type": "code",
   "execution_count": 21,
   "id": "c68f3dde",
   "metadata": {
    "scrolled": true
   },
   "outputs": [
    {
     "data": {
      "image/png": "[encoded data removed]",
      "text/plain": [
       "<Figure size 1000x700 with 12 Axes>"
      ]
     },
     "metadata": {},
     "output_type": "display_data"
    },
    {
     "data": {
      "image/png": "[encoded data removed]",
      "text/plain": [
       "<Figure size 1000x700 with 12 Axes>"
      ]
     },
     "metadata": {},
     "output_type": "display_data"
    },
    {
     "data": {
      "image/png": "[encoded data removed]",
      "text/plain": [
       "<Figure size 1000x700 with 12 Axes>"
      ]
     },
     "metadata": {},
     "output_type": "display_data"
    }
   ],
   "source": [
    "from aics_shape_modes.represent_3d import get_mesh_from_sdf\n",
    "device = \"cuda:0\"\n",
    "all_x_r = {'image': all_x_r.to(device)}\n",
    "\n",
    "model.to(device)\n",
    "all_mesh_ins = []\n",
    "all_mesh_outs = []\n",
    "all_mesh_outs_canonical = []\n",
    "# all_z_parts = []\n",
    "with torch.no_grad():\n",
    "    z_parts_params = model.encode(all_x_r)\n",
    "    z_parts = model.sample_z(z_parts_params, inference=True)\n",
    "    try:\n",
    "        y, _, base_y = model.decode(z_parts, return_canonical=True)\n",
    "    except:\n",
    "        print('exception')\n",
    "        y, _ = model.decode(z_parts)\n",
    "        base_y = y['image']\n",
    "    \n",
    "    y = y['image'].cpu().numpy()\n",
    "    base_y = base_y.cpu().numpy()\n",
    "\n",
    "    for i in range(y.shape[0]): \n",
    "# #         all_mesh_ins.append(get_mesh_from_sdf(all_x_r['image'][i][0].detach().cpu().numpy()))\n",
    "# #         all_mesh_outs.append(get_mesh_from_sdf(y[i][0]))\n",
    "# #         all_mesh_outs_canonical.append(get_mesh_from_sdf(base_y[i][0]))\n",
    "        export_mesh(all_x_r['image'][i][0].detach().cpu().numpy(), f'in_{i}')\n",
    "        export_mesh(y[i][0], f'out_{i}')\n",
    "        export_mesh(base_y[i][0], f'out_canonical_{i}')\n",
    "    \n",
    "#     all_z_parts.append(z_parts['embedding'])\n",
    "from pathlib import Path\n",
    "cell_id = cell_id.split('-')[0]\n",
    "path = Path(f'./reconstructions/ID_{cell_id}/')\n",
    "\n",
    "import os\n",
    "if not os.path.exists(path):\n",
    "    os.makedirs(path)\n",
    "    \n",
    "\n",
    "\n",
    "# for i in range(len(all_mesh_ins)):\n",
    "#     all_mesh_ins[i].save(path / f'input_{i}.ply')\n",
    "#     all_mesh_outs[i].save(path / f'output_{i}.ply')\n",
    "#     all_mesh_outs_canonical[i].save(path / f'output_canonical_{i}.ply')\n",
    "    \n",
    "for proj in [0]:\n",
    "    for j in [0, 1, 2]:\n",
    "\n",
    "        fig, ax = plt.subplots(nrows=3, ncols=4, figsize=(10, 7))\n",
    "#         theta = torch.Tensor([0, 0.5*90, 1*90, 1.5*90, 2*90, 2.5*90, 3*90, 3.5*90])\n",
    "        theta = torch.Tensor([0,  1*90,  2*90, 3*90])\n",
    "        for i in range(len(theta)):\n",
    "            ax[0, i].imshow(all_x_r['image'][i][proj].max(j)[0].detach().cpu().numpy(), cmap=\"gray\")\n",
    "            ax[1, i].imshow(base_y[i][proj].max(j), cmap=\"gray\")\n",
    "            ax[2, i].imshow(y[i][proj].max(j), cmap=\"gray\")\n",
    "            ax[0, i].set_title(\"%.2f\" % (theta[i].numpy()))\n",
    "        plt.setp(plt.gcf().get_axes(), xticks=[], yticks=[]);\n",
    "        plt.show()"
   ]
  },
  {
   "cell_type": "code",
   "execution_count": 22,
   "id": "22e381d6",
   "metadata": {},
   "outputs": [
    {
     "data": {
      "text/plain": [
       "-0.055247903"
      ]
     },
     "execution_count": 22,
     "metadata": {},
     "output_type": "execute_result"
    }
   ],
   "source": [
    "base_y.min()"
   ]
  },
  {
   "cell_type": "code",
   "execution_count": 28,
   "id": "6ca050c7",
   "metadata": {},
   "outputs": [],
   "source": [
    "# path = df.loc[df['CellId'] == '955601-NPM']['crop_seg'].iloc[0]\n",
    "# from skimage.io import imread\n",
    "# img2 = imread(path)\n",
    "# img2 = img2[:,-1,:,:]\n",
    "# print(img2.shape)\n"
   ]
  },
  {
   "cell_type": "code",
   "execution_count": 42,
   "id": "d0f67d9a",
   "metadata": {},
   "outputs": [
    {
     "name": "stdout",
     "output_type": "stream",
     "text": [
      "21.068523406982422 -1.125601887702942\n",
      "19.70278 0.60872674 17.779554 0.6413937\n"
     ]
    }
   ],
   "source": [
    "ind = 0\n",
    "print(all_x_r['image'][ind].max().item(), all_x_r['image'][ind].min().item())\n",
    "print(base_y[ind][0].max(), base_y[ind][0].min(), y[ind][0].max(), y[ind][0].min())"
   ]
  },
  {
   "cell_type": "code",
   "execution_count": 30,
   "id": "5f1a249c",
   "metadata": {},
   "outputs": [],
   "source": [
    "check_path = df.loc[df['CellId'] == '955601-NPM']['sdf_path_unalign'].iloc[0]"
   ]
  },
  {
   "cell_type": "code",
   "execution_count": 54,
   "id": "7e0b0136",
   "metadata": {},
   "outputs": [],
   "source": [
    "img3 = np.load(check_path)"
   ]
  },
  {
   "cell_type": "code",
   "execution_count": 128,
   "id": "c1bbdf66",
   "metadata": {},
   "outputs": [
    {
     "data": {
      "text/plain": [
       "<matplotlib.image.AxesImage at 0x7fe871c7e280>"
      ]
     },
     "execution_count": 128,
     "metadata": {},
     "output_type": "execute_result"
    },
    {
     "data": {
      "image/png": "[encoded data removed]",
      "text/plain": [
       "<Figure size 640x480 with 1 Axes>"
      ]
     },
     "metadata": {},
     "output_type": "display_data"
    }
   ],
   "source": [
    "plt.imshow(img3.max(1))"
   ]
  },
  {
   "cell_type": "code",
   "execution_count": 129,
   "id": "06bef375",
   "metadata": {},
   "outputs": [],
   "source": [
    "mesh = get_mesh_from_sdf(img3)"
   ]
  },
  {
   "cell_type": "code",
   "execution_count": 130,
   "id": "6fc82899",
   "metadata": {},
   "outputs": [],
   "source": [
    "mesh.save('test.ply')"
   ]
  },
  {
   "cell_type": "code",
   "execution_count": 25,
   "id": "2ed60f17",
   "metadata": {},
   "outputs": [
    {
     "data": {
      "text/plain": [
       "-2.0035145"
      ]
     },
     "execution_count": 25,
     "metadata": {},
     "output_type": "execute_result"
    }
   ],
   "source": [
    "all_x_r['image'][i][0].detach().cpu().numpy().min()"
   ]
  },
  {
   "cell_type": "code",
   "execution_count": null,
   "id": "b846d1fa",
   "metadata": {},
   "outputs": [],
   "source": []
  }
 ],
 "metadata": {
  "kernelspec": {
   "display_name": "Python 3 (ipykernel)",
   "language": "python",
   "name": "python3"
  },
  "language_info": {
   "codemirror_mode": {
    "name": "ipython",
    "version": 3
   },
   "file_extension": ".py",
   "mimetype": "text/x-python",
   "name": "python",
   "nbconvert_exporter": "python",
   "pygments_lexer": "ipython3",
   "version": "3.9.16"
  }
 },
 "nbformat": 4,
 "nbformat_minor": 5
}
