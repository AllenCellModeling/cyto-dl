{
 "cells": [
  {
   "cell_type": "code",
   "execution_count": 3,
   "id": "d83c53fe",
   "metadata": {},
   "outputs": [],
   "source": [
    "from hydra.utils import instantiate\n",
    "import yaml\n",
    "import torch\n",
    "import numpy as np\n",
    "import torch\n",
    "from sklearn.manifold import TSNE\n",
    "import matplotlib.pyplot as plt\n",
    "from torch.utils.data import Dataset, DataLoader\n",
    "from torchvision.transforms import RandomRotation, Pad, Resize, ToTensor, GaussianBlur\n",
    "from PIL import Image"
   ]
  },
  {
   "cell_type": "code",
   "execution_count": 76,
   "id": "52b06dab",
   "metadata": {},
   "outputs": [],
   "source": [
    "from aics_im2im.models.utils.mlflow import load_model_from_checkpoint\n",
    "\n",
    "model = load_model_from_checkpoint(\"https://mlflow.a100.int.allencell.org\", \"08b6670f6b7f46a7b1cce70d00842c89\"\n",
    "                                  , path = \"checkpoints/val loss/best.ckpt\", strict=False)"
   ]
  },
  {
   "cell_type": "code",
   "execution_count": 77,
   "id": "338992ed",
   "metadata": {},
   "outputs": [],
   "source": [
    "device = \"cuda:0\"\n",
    "model = model.to(device)\n",
    "model = model.eval()"
   ]
  },
  {
   "cell_type": "code",
   "execution_count": 146,
   "id": "b1349f17",
   "metadata": {},
   "outputs": [],
   "source": [
    "config = yaml.safe_load('''\n",
    "_target_: aics_im2im.datamodules.DataframeDatamodule\n",
    "_convert_: all\n",
    "\n",
    "path: /allen/aics/modeling/ritvik/projects/tmp.csv\n",
    "split_column: splits\n",
    "\n",
    "batch_size: 64\n",
    "num_workers: 1\n",
    "multiprocessing_context: spawn\n",
    "persistent_workers: true\n",
    "\n",
    "transforms:\n",
    "  - _target_: aics_im2im.dataframe.transforms.GroupCols\n",
    "    groups:\n",
    "      image: sdf_path_align_3dnuc\n",
    "      cell_id: CellId\n",
    "  - _target_: aics_im2im.image.io.ReadNumpyFile\n",
    "    keys: image\n",
    "    remote: false\n",
    "  - _target_: monai.transforms.NormalizeIntensityd\n",
    "    keys: [image]\n",
    "    subtrahend: 6\n",
    "  - _target_: monai.transforms.ToTensord\n",
    "    keys: [image]\n",
    "    track_meta: false\n",
    "\n",
    "''')"
   ]
  },
  {
   "cell_type": "code",
   "execution_count": null,
   "id": "fb1b3a34",
   "metadata": {},
   "outputs": [],
   "source": [
    "data = instantiate(config)\n",
    "train_dl = data.train_dataloader()\n",
    "batch = next(iter(train_dl))"
   ]
  },
  {
   "cell_type": "code",
   "execution_count": null,
   "id": "4f60d646",
   "metadata": {},
   "outputs": [],
   "source": [
    "for i in range(10):\n",
    "    print(batch['image'][i].min(), batch['image'][i].max(), batch['image'][i].mean())"
   ]
  },
  {
   "cell_type": "code",
   "execution_count": 79,
   "id": "0876efb3",
   "metadata": {},
   "outputs": [
    {
     "name": "stderr",
     "output_type": "stream",
     "text": [
      "Global seed set to 42\n"
     ]
    }
   ],
   "source": [
    "import pytorch_lightning as pl\n",
    "pl.seed_everything(42)\n",
    "\n",
    "def rotate(matrix, deg_angle, axis):\n",
    "    d = len(matrix)\n",
    "    h = len(matrix[0])\n",
    "    w = len(matrix[0][0])\n",
    "    min_new_x = 0\n",
    "    max_new_x = 0\n",
    "    min_new_y = 0\n",
    "    max_new_y = 0\n",
    "    min_new_z = 0\n",
    "    max_new_z = 0\n",
    "    new_coords = []\n",
    "    angle = radians(deg_angle)\n",
    "\n",
    "    for z in range(d):\n",
    "        for y in range(h):\n",
    "            for x in range(w):\n",
    "\n",
    "                new_x = None\n",
    "                new_y = None\n",
    "                new_z = None\n",
    "\n",
    "                if axis == \"x\":\n",
    "                    new_x = int(round(x))\n",
    "                    new_y = int(round(y*cos(angle) - z*sin(angle)))\n",
    "                    new_z = int(round(y*sin(angle) + z*cos(angle)))\n",
    "                elif axis == \"y\":\n",
    "                    new_x = int(round(z*sin(angle) + x*cos(angle)))\n",
    "                    new_y = int(round(y))\n",
    "                    new_z = int(round(z*cos(angle) - x*sin(angle)))\n",
    "                elif axis == \"z\":\n",
    "                    new_x = int(round(x*cos(angle) - y*sin(angle)))\n",
    "                    new_y = int(round(x*sin(angle) + y*cos(angle)))\n",
    "                    new_z = int(round(z))\n",
    "\n",
    "                val = matrix.item((z, y, x))\n",
    "                new_coords.append((val, new_x, new_y, new_z))\n",
    "                if new_x < min_new_x: min_new_x = new_x\n",
    "                if new_x > max_new_x: max_new_x = new_x\n",
    "                if new_y < min_new_y: min_new_y = new_y\n",
    "                if new_y > max_new_y: max_new_y = new_y\n",
    "                if new_z < min_new_z: min_new_z = new_z\n",
    "                if new_z > max_new_z: max_new_z = new_z\n",
    "\n",
    "    new_x_offset = abs(min_new_x)\n",
    "    new_y_offset = abs(min_new_y)\n",
    "    new_z_offset = abs(min_new_z)\n",
    "\n",
    "    new_width = abs(min_new_x - max_new_x)\n",
    "    new_height = abs(min_new_y - max_new_y)\n",
    "    new_depth = abs(min_new_z - max_new_z)\n",
    "\n",
    "    rotated = np.empty((new_depth + 1, new_height + 1, new_width + 1))\n",
    "    rotated.fill(0)\n",
    "    for coord in new_coords:\n",
    "        val = coord[0]\n",
    "        x = coord[1]\n",
    "        y = coord[2]\n",
    "        z = coord[3]\n",
    "\n",
    "        if rotated[new_z_offset + z][new_y_offset + y][new_x_offset + x] == 0:\n",
    "            rotated[new_z_offset + z][new_y_offset + y][new_x_offset + x] = val\n",
    "\n",
    "    matrix = rotated\n",
    "    return matrix"
   ]
  },
  {
   "cell_type": "code",
   "execution_count": 80,
   "id": "d7143583",
   "metadata": {
    "scrolled": true
   },
   "outputs": [
    {
     "data": {
      "text/plain": [
       "torch.Size([1, 32, 32, 32])"
      ]
     },
     "execution_count": 80,
     "metadata": {},
     "output_type": "execute_result"
    }
   ],
   "source": [
    "x.shape"
   ]
  },
  {
   "cell_type": "code",
   "execution_count": 115,
   "id": "c498f493",
   "metadata": {},
   "outputs": [],
   "source": [
    "from math import radians, cos, sin\n",
    "import torchio\n",
    "\n",
    "x =  batch['image'][2]\n",
    "\n",
    "# x =  dl['image'][0]\n",
    "in_x_2 = x.cpu().numpy()\n",
    "\n",
    "\n",
    "totensor = ToTensor()\n",
    "size =32\n",
    "resize = torchio.transforms.Resize(target_shape=32)\n",
    "\n",
    "all_x_r = []\n",
    "for channel in range(1):\n",
    "    in_x = in_x_2[channel]\n",
    "    x_r = np.concatenate((\n",
    "        resize(np.expand_dims(rotate(in_x, 0*90, 'z'), axis=0)),\n",
    "#         resize(np.expand_dims(rotate(in_x, 0.5*90, 'z'), axis=0)),\n",
    "        resize(np.expand_dims(rotate(in_x, 1*90, 'z'), axis=0)),\n",
    "#         resize(np.expand_dims(rotate(in_x, 1.5*90, 'z'), axis=0)),\n",
    "        resize(np.expand_dims(rotate(in_x, 2*90, 'z'), axis=0)),\n",
    "#         resize(np.expand_dims(rotate(in_x, 2.5*90, 'z'), axis=0)),\n",
    "        resize(np.expand_dims(rotate(in_x, 3*90, 'z'), axis=0)),\n",
    "#         resize(np.expand_dims(rotate(in_x, 3.5*90, 'z'), axis=0))\n",
    "), axis=0)\n",
    "    all_x_r.append(x_r)\n",
    "all_x_r = np.stack(all_x_r, axis=1) \n",
    "all_x_r = torch.tensor(all_x_r)"
   ]
  },
  {
   "cell_type": "code",
   "execution_count": 116,
   "id": "07809354",
   "metadata": {},
   "outputs": [],
   "source": [
    "all_x_r = all_x_r.float()"
   ]
  },
  {
   "cell_type": "code",
   "execution_count": 117,
   "id": "289425fd",
   "metadata": {},
   "outputs": [
    {
     "data": {
      "text/plain": [
       "torch.Size([4, 1, 32, 32, 32])"
      ]
     },
     "execution_count": 117,
     "metadata": {},
     "output_type": "execute_result"
    }
   ],
   "source": [
    "all_x_r.shape"
   ]
  },
  {
   "cell_type": "code",
   "execution_count": 118,
   "id": "327c17df",
   "metadata": {},
   "outputs": [
    {
     "data": {
      "text/plain": [
       "torch.Size([4, 87808])"
      ]
     },
     "execution_count": 118,
     "metadata": {},
     "output_type": "execute_result"
    }
   ],
   "source": [
    "tmp.shape"
   ]
  },
  {
   "cell_type": "code",
   "execution_count": 119,
   "id": "c68f3dde",
   "metadata": {
    "scrolled": true
   },
   "outputs": [
    {
     "data": {
      "image/png": "[encoded data removed]",
      "text/plain": [
       "<Figure size 1000x700 with 12 Axes>"
      ]
     },
     "metadata": {},
     "output_type": "display_data"
    },
    {
     "data": {
      "image/png": "[encoded data removed]",
      "text/plain": [
       "<Figure size 1000x700 with 12 Axes>"
      ]
     },
     "metadata": {},
     "output_type": "display_data"
    },
    {
     "data": {
      "image/png": "[encoded data removed]",
      "text/plain": [
       "<Figure size 1000x700 with 12 Axes>"
      ]
     },
     "metadata": {},
     "output_type": "display_data"
    }
   ],
   "source": [
    "\n",
    "device = \"cuda:0\"\n",
    "all_x_r = {'image': all_x_r.to(device)}\n",
    "\n",
    "model.to(device)\n",
    "with torch.no_grad():\n",
    "    y, _, z_parts_params_1, _ = model(all_x_r, do_rot=False, decode=True, compute_loss=False)\n",
    "    y2, _, z_parts_params_2, _ = model(all_x_r, do_rot=True, decode=True, compute_loss=False)\n",
    "    y = y['image'].cpu().numpy()\n",
    "    y2 = y2['image'].cpu().numpy()\n",
    "    if 'angle' in z_parts_params_1.keys():\n",
    "        rot_1 = z_parts_params_1['angle'].cpu().numpy()\n",
    "        rot_2 = z_parts_params_2['angle'].cpu().numpy()\n",
    "\n",
    "\n",
    "for proj in [0]:\n",
    "    for j in [0, 1, 2]:\n",
    "\n",
    "        fig, ax = plt.subplots(nrows=3, ncols=4, figsize=(10, 7))\n",
    "#         theta = torch.Tensor([0, 0.5*90, 1*90, 1.5*90, 2*90, 2.5*90, 3*90, 3.5*90])\n",
    "        theta = torch.Tensor([0,  1*90,  2*90, 3*90])\n",
    "        for i in range(len(theta)):\n",
    "            ax[0, i].imshow(all_x_r['image'][i][proj].max(j)[0].detach().cpu().numpy(), cmap=\"gray\")\n",
    "            ax[1, i].imshow(y[i][proj].max(j), cmap=\"gray\")\n",
    "            ax[2, i].imshow(y2[i][proj].max(j), cmap=\"gray\")\n",
    "            ax[0, i].set_title(\"%.2f\" % (theta[i].numpy()))\n",
    "        plt.setp(plt.gcf().get_axes(), xticks=[], yticks=[]);\n",
    "        plt.show()"
   ]
  },
  {
   "cell_type": "code",
   "execution_count": 121,
   "id": "f9ce04cb",
   "metadata": {},
   "outputs": [
    {
     "data": {
      "text/plain": [
       "(4, 1, 32, 32, 32)"
      ]
     },
     "execution_count": 121,
     "metadata": {},
     "output_type": "execute_result"
    }
   ],
   "source": [
    "y.shape"
   ]
  },
  {
   "cell_type": "code",
   "execution_count": 124,
   "id": "dc6aca1c",
   "metadata": {},
   "outputs": [
    {
     "data": {
      "text/plain": [
       "<matplotlib.image.AxesImage at 0x7f70d0212610>"
      ]
     },
     "execution_count": 124,
     "metadata": {},
     "output_type": "execute_result"
    },
    {
     "data": {
      "image/png": "[encoded data removed]",
      "text/plain": [
       "<Figure size 640x480 with 1 Axes>"
      ]
     },
     "metadata": {},
     "output_type": "display_data"
    }
   ],
   "source": [
    "plt.imshow(y[0][0].max(2))"
   ]
  },
  {
   "cell_type": "code",
   "execution_count": 112,
   "id": "36db9926",
   "metadata": {},
   "outputs": [
    {
     "data": {
      "text/plain": [
       "torch.Size([4, 1, 32, 32, 32])"
      ]
     },
     "execution_count": 112,
     "metadata": {},
     "output_type": "execute_result"
    }
   ],
   "source": [
    "all_x_r['image'].shape"
   ]
  },
  {
   "cell_type": "code",
   "execution_count": 76,
   "id": "e920f21f",
   "metadata": {},
   "outputs": [],
   "source": [
    "import numpy as np\n",
    "from meshpy.tet import MeshInfo, build\n",
    "import numpy as np\n",
    "from ipygany import Scene, TetraMesh\n",
    "import numpy as np\n",
    "import mcubes\n",
    "\n",
    "\n",
    "def export_mesh(img_in, filename):\n",
    "    # Extract the 0-isosurface\n",
    "    # vertices, triangles = mcubes.marching_cubes(img3,0.5)\n",
    "    vertices, triangles = mcubes.marching_cubes(img_in,0.5)\n",
    "\n",
    "    # Export the result to sphere.dae\n",
    "    # mcubes.export_mesh(vertices, triangles, \"sphere.dae\", \"MySphere\")\n",
    "    mcubes.export_obj(vertices, triangles, f'meshes/{filename}.obj')\n",
    "\n",
    "    vert_list = []\n",
    "    for i in range(vertices.shape[0]):\n",
    "        vert_list.append(list(vertices[i]))\n",
    "    triangles_list = []\n",
    "    for i in range(triangles.shape[0]):\n",
    "        triangles_list.append(list(triangles[i]))\n",
    "\n",
    "    mesh_info = MeshInfo()\n",
    "    mesh_info.set_points(vert_list)\n",
    "    mesh_info.set_facets(triangles_list)\n",
    "    mesh = build(mesh_info)\n",
    "\n",
    "    # Normalize mesh for viz\n",
    "\n",
    "    norm_verts = (vertices - vertices.mean(axis=0))/(vertices.std(axis=0))\n",
    "\n",
    "    vert_list = []\n",
    "    for i in range(vertices.shape[0]):\n",
    "        vert_list.append([list(norm_verts[i])[2], list(norm_verts[i])[1], list(norm_verts[i])[0]])\n",
    "    triangles_list = []\n",
    "    for i in range(triangles.shape[0]):\n",
    "        triangles_list.append(list(triangles[i]))\n",
    "    vertices_norm = np.stack(vert_list, axis=0)\n",
    "    mcubes.export_obj(vertices_norm, triangles, f'meshes/{filename}_norm.obj')"
   ]
  },
  {
   "cell_type": "code",
   "execution_count": 77,
   "id": "d19ab70c",
   "metadata": {},
   "outputs": [
    {
     "data": {
      "text/plain": [
       "torch.Size([4, 2, 28, 28, 28])"
      ]
     },
     "execution_count": 77,
     "metadata": {},
     "output_type": "execute_result"
    }
   ],
   "source": [
    "all_x_r['image'].shape"
   ]
  },
  {
   "cell_type": "code",
   "execution_count": 78,
   "id": "cfe36182",
   "metadata": {},
   "outputs": [],
   "source": [
    "# ind = 3\n",
    "ind = 3\n",
    "img_in = all_x_r['image'][ind][0].detach().cpu().numpy()\n",
    "img_recon = y[ind][0]\n",
    "img_recon2 = y2[ind][0]"
   ]
  },
  {
   "cell_type": "code",
   "execution_count": 79,
   "id": "ad7135ee",
   "metadata": {},
   "outputs": [],
   "source": [
    "export_mesh(img_in, 'input')\n",
    "export_mesh(img_recon, 'recon_inv')\n",
    "export_mesh(img_recon2, 'recon')"
   ]
  },
  {
   "cell_type": "code",
   "execution_count": 80,
   "id": "bfa5a030",
   "metadata": {},
   "outputs": [
    {
     "name": "stderr",
     "output_type": "stream",
     "text": [
      "2022-11-28 00:00:01,591\tWARNING worker.py:1829 -- The log monitor on node prd-aics-dcp-038 failed with the following error:\n",
      "Traceback (most recent call last):\n",
      "  File \"/home/ritvik.vasan/.cache/pypoetry/virtualenvs/aics-latent-spaces-XUDj-riv-py3.9/lib/python3.9/site-packages/ray/_private/log_monitor.py\", line 520, in <module>\n",
      "    log_monitor.run()\n",
      "  File \"/home/ritvik.vasan/.cache/pypoetry/virtualenvs/aics-latent-spaces-XUDj-riv-py3.9/lib/python3.9/site-packages/ray/_private/log_monitor.py\", line 436, in run\n",
      "    anything_published = self.check_log_files_and_publish_updates()\n",
      "  File \"/home/ritvik.vasan/.cache/pypoetry/virtualenvs/aics-latent-spaces-XUDj-riv-py3.9/lib/python3.9/site-packages/ray/_private/log_monitor.py\", line 339, in check_log_files_and_publish_updates\n",
      "    file_info.reopen_if_necessary()\n",
      "  File \"/home/ritvik.vasan/.cache/pypoetry/virtualenvs/aics-latent-spaces-XUDj-riv-py3.9/lib/python3.9/site-packages/ray/_private/log_monitor.py\", line 79, in reopen_if_necessary\n",
      "    new_inode = os.stat(self.filename).st_ino\n",
      "FileNotFoundError: [Errno 2] No such file or directory: '/tmp/ray/session_2022-11-22_14-08-54_597439_4162376/logs/worker-aed948f6175ef3bffc6f2e8b5ef35f069c14706c694ab408fa454d8a-01000000-324625.err'\n",
      "\n"
     ]
    }
   ],
   "source": [
    "for ind in range(4):\n",
    "    for channel in range(2):\n",
    "        img_in = all_x_r['image'][ind][channel].detach().cpu().numpy()\n",
    "        img_recon = y[ind][channel]\n",
    "        img_recon2 = y2[ind][channel]\n",
    "        export_mesh(img_in, f'input_chan_{channel}_rot_{ind}')\n",
    "        export_mesh(img_recon, f'recon_inv_chan_{channel}_rot_{ind}')\n",
    "        export_mesh(img_recon2, f'recon_chan_{channel}_rot_{ind}')"
   ]
  },
  {
   "cell_type": "code",
   "execution_count": null,
   "id": "7fd25c75",
   "metadata": {},
   "outputs": [],
   "source": []
  },
  {
   "cell_type": "code",
   "execution_count": null,
   "id": "b846d1fa",
   "metadata": {},
   "outputs": [],
   "source": []
  }
 ],
 "metadata": {
  "kernelspec": {
   "display_name": "Python 3 (ipykernel)",
   "language": "python",
   "name": "python3"
  },
  "language_info": {
   "codemirror_mode": {
    "name": "ipython",
    "version": 3
   },
   "file_extension": ".py",
   "mimetype": "text/x-python",
   "name": "python",
   "nbconvert_exporter": "python",
   "pygments_lexer": "ipython3",
   "version": "3.9.16"
  }
 },
 "nbformat": 4,
 "nbformat_minor": 5
}
