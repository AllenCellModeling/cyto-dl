{
 "cells": [
  {
   "cell_type": "code",
   "execution_count": null,
   "id": "9abc3662",
   "metadata": {},
   "outputs": [],
   "source": [
    "import escnn\n",
    "import matplotlib.pyplot as plt\n",
    "import numpy as np\n",
    "import torch\n",
    "from giae.so2.data import MNISTDataModule, MNISTDataset\n",
    "from giae.so2.trainer import Trainer\n",
    "from PIL import Image\n",
    "from sklearn.manifold import TSNE\n",
    "from torch.utils.data import DataLoader, Dataset\n",
    "from torchvision.transforms import GaussianBlur, Pad, RandomRotation, Resize, ToTensor\n",
    "\n",
    "%load_ext autoreload\n",
    "%autoreload 2\n",
    "%config Completer.use_jedi = False"
   ]
  },
  {
   "cell_type": "code",
   "execution_count": null,
   "id": "fe928e50",
   "metadata": {},
   "outputs": [],
   "source": [
    "# import mlflow\n",
    "# from serotiny.ml_ops.mlflow_utils import download_artifact, load_model_from_checkpoint, _get_config\n",
    "\n",
    "# model = load_model_from_checkpoint(\"https://mlflow.a100.int.allencell.org\", \"6dadf6383beb453ebff7b0f1b6b5544a\", {})"
   ]
  },
  {
   "cell_type": "code",
   "execution_count": null,
   "id": "ffc1b975",
   "metadata": {},
   "outputs": [],
   "source": [
    "import mlflow\n",
    "from serotiny.ml_ops.mlflow_utils import (\n",
    "    _get_config,\n",
    "    download_artifact,\n",
    "    load_model_from_checkpoint,\n",
    ")\n",
    "\n",
    "# b72f62c762aa4afb934c737deeddb995 # no pool\n",
    "# 5326aa3031b347319e8dfc5e82964fd4 # pool\n",
    "\n",
    "# 95595f7c1f8d4566b1aba64fbaf73632 # good\n",
    "model = load_model_from_checkpoint(\n",
    "    \"https://mlflow.a100.int.allencell.org\", \"cd3f42878f844eae8f293e5448d88b51\", {}\n",
    ")"
   ]
  },
  {
   "cell_type": "code",
   "execution_count": null,
   "id": "60b28865",
   "metadata": {},
   "outputs": [],
   "source": [
    "# import mlflow\n",
    "# from serotiny.ml_ops.mlflow_utils import download_artifact, load_model_from_checkpoint, _get_config\n",
    "\n",
    "# model = load_model_from_checkpoint(\"https://mlflow.a100.int.allencell.org\", \"cae02eebdfc443a39466faa4de4f40ae\", {})"
   ]
  },
  {
   "cell_type": "code",
   "execution_count": null,
   "id": "d2b479ab",
   "metadata": {},
   "outputs": [],
   "source": [
    "model.mode = \"2d\""
   ]
  },
  {
   "cell_type": "code",
   "execution_count": null,
   "id": "de5ac293",
   "metadata": {},
   "outputs": [],
   "source": [
    "device = \"cuda:0\"\n",
    "model = model.to(device)\n",
    "inp = torch.zeros([2, 28, 28]).to(device)\n",
    "# hh = model.encoder['image'].conv_forward(inp, return_sizes=True)"
   ]
  },
  {
   "cell_type": "code",
   "execution_count": null,
   "id": "3b6f74a0",
   "metadata": {},
   "outputs": [],
   "source": []
  },
  {
   "cell_type": "code",
   "execution_count": null,
   "id": "e9fd43d3",
   "metadata": {},
   "outputs": [],
   "source": [
    "device = \"cuda:0\"\n",
    "model = model.eval()\n",
    "model.to(device)"
   ]
  },
  {
   "cell_type": "code",
   "execution_count": null,
   "id": "70e5d6f6",
   "metadata": {},
   "outputs": [],
   "source": [
    "import yaml\n",
    "from hydra.utils import instantiate\n",
    "\n",
    "data = instantiate(\n",
    "    yaml.full_load(\n",
    "        \"\"\"\n",
    "  _target_: serotiny.datamodules.ManifestDatamodule\n",
    "  path: /allen/aics/modeling/bvae_analysis/data/cytodata/variance_2000.csv\n",
    "  batch_size: 20\n",
    "  num_workers: 0\n",
    "  loaders:\n",
    "    image:\n",
    "      _target_: serotiny.io.dataframe.loaders.LoadImage\n",
    "      column: max_projection_z\n",
    "      select_channels:\n",
    "      - membrane_segmentation\n",
    "      dtype: float32\n",
    "      unsqueeze_first_dim: true\n",
    "      transform:\n",
    "      - _target_: torchvision.transforms.ToTensor\n",
    "      - _partial_: true\n",
    "        _convert_: all\n",
    "        _target_: torch.swapaxes\n",
    "        axis0: 0\n",
    "        axis1: 1\n",
    "      - _partial_: true\n",
    "        _convert_: all\n",
    "        _target_: torch.swapaxes\n",
    "        axis0: 1\n",
    "        axis1: 2\n",
    "      - _target_: torchvision.transforms.CenterCrop\n",
    "        size: 374\n",
    "      - _partial_: true\n",
    "        _target_: aics_latentspaces.transform_utils.center_image\n",
    "      - _target_: torchvision.transforms.Resize\n",
    "        size: 28\n",
    "      - _target_: torchvision.transforms.Normalize\n",
    "        mean:\n",
    "        - 0\n",
    "        std:\n",
    "        - 1\n",
    "      - _partial_: true\n",
    "        _target_: torch.squeeze\n",
    "    cell_id:\n",
    "      _target_: serotiny.io.dataframe.loaders.LoadColumns\n",
    "      contains: CellId\n",
    "    class:\n",
    "      _target_: serotiny.io.dataframe.loaders.LoadColumns\n",
    "      contains: nbr_complete\n",
    "  split_column: split\n",
    "  columns: null\n",
    "\"\"\"\n",
    "    )\n",
    ")"
   ]
  },
  {
   "cell_type": "code",
   "execution_count": null,
   "id": "6d29bef1",
   "metadata": {},
   "outputs": [],
   "source": [
    "1"
   ]
  },
  {
   "cell_type": "code",
   "execution_count": null,
   "id": "3f556a7a",
   "metadata": {},
   "outputs": [],
   "source": [
    "dl = next(iter(data.test_dataloader()))"
   ]
  },
  {
   "cell_type": "code",
   "execution_count": null,
   "id": "f4f84f51",
   "metadata": {},
   "outputs": [],
   "source": [
    "dl[\"image\"].shape"
   ]
  },
  {
   "cell_type": "code",
   "execution_count": null,
   "id": "3fdabc14",
   "metadata": {},
   "outputs": [],
   "source": [
    "size = 28\n",
    "resize2 = Resize((size, size))\n",
    "totensor = ToTensor()\n",
    "blur = GaussianBlur(kernel_size=3, sigma=(0.01, 0.01))\n",
    "\n",
    "# GENERATE rotated versions. Resize to minimize interploation artifacts\n",
    "i = 9  # 9 for DNA\n",
    "i = 2  # 0 for DNA\n",
    "img_ind = 6  # for mem\n",
    "x = dl[\"image\"][img_ind]\n",
    "try:\n",
    "    print(dl[\"id\"][img_ind])\n",
    "except:\n",
    "    print(dl[\"cell_id\"][img_ind])\n",
    "x_r = Image.fromarray(x.numpy())\n",
    "# x_r = torch.cat((\n",
    "#     totensor(resize2(blur(x_r.rotate(0*90., Image.BILINEAR)))).reshape(1, 28, 28),\n",
    "#     totensor(resize2(blur(x_r.rotate(0.5*90., Image.BILINEAR)))).reshape(1, 28, 28),\n",
    "#     totensor(resize2(blur(x_r.rotate(1*90., Image.BILINEAR)))).reshape(1, 28, 28),\n",
    "#     totensor(resize2(blur(x_r.rotate(1.5*90., Image.BILINEAR)))).reshape(1, 28, 28),\n",
    "#     totensor(resize2(blur(x_r.rotate(2*90., Image.BILINEAR)))).reshape(1, 28, 28),\n",
    "#     totensor(resize2(blur(x_r.rotate(2.5*90., Image.BILINEAR)))).reshape(1, 28, 28),\n",
    "#     totensor(resize2(blur(x_r.rotate(3.*90., Image.BILINEAR)))).reshape(1, 28, 28),\n",
    "#     totensor(resize2(blur(x_r.rotate(3.5*90., Image.BILINEAR)))).reshape(1, 28, 28)), dim=0)\n",
    "# x_r.shape\n",
    "\n",
    "x_r = torch.cat(\n",
    "    (\n",
    "        totensor(resize2(blur(x_r.rotate(0 * 90.0, Image.BILINEAR)))).reshape(1, size, size),\n",
    "        totensor(resize2(blur(x_r.rotate(0.5 * 90.0, Image.BILINEAR)))).reshape(1, size, size),\n",
    "        totensor(resize2(blur(x_r.rotate(1 * 90.0, Image.BILINEAR)))).reshape(1, size, size),\n",
    "        totensor(resize2(blur(x_r.rotate(1.5 * 90.0, Image.BILINEAR)))).reshape(1, size, size),\n",
    "        totensor(resize2(blur(x_r.rotate(2 * 90.0, Image.BILINEAR)))).reshape(1, size, size),\n",
    "        totensor(resize2(blur(x_r.rotate(2.5 * 90.0, Image.BILINEAR)))).reshape(1, size, size),\n",
    "        totensor(resize2(blur(x_r.rotate(3.0 * 90.0, Image.BILINEAR)))).reshape(1, size, size),\n",
    "        totensor(resize2(blur(x_r.rotate(3.5 * 90.0, Image.BILINEAR)))).reshape(1, size, size),\n",
    "    ),\n",
    "    dim=0,\n",
    ")\n",
    "x_r.shape"
   ]
  },
  {
   "cell_type": "code",
   "execution_count": null,
   "id": "2afebb02",
   "metadata": {},
   "outputs": [],
   "source": [
    "plt.imshow(x_r[0])"
   ]
  },
  {
   "cell_type": "code",
   "execution_count": null,
   "id": "bd20ab5b",
   "metadata": {},
   "outputs": [],
   "source": [
    "from skimage import measure\n",
    "\n",
    "device = \"cuda:0\"\n",
    "x_r = {\"image\": x_r.to(device)}\n",
    "\n",
    "model.to(device)\n",
    "with torch.no_grad():\n",
    "    y, _, z_parts_params_1, _, _, _, _, _ = model(\n",
    "        x_r, do_rot=False, decode=True, compute_loss=True\n",
    "    )\n",
    "    y2, _, z_parts_params_2, _, _, _, _, _ = model(\n",
    "        x_r, do_rot=True, decode=True, compute_loss=True\n",
    "    )\n",
    "    y = y[\"image\"].cpu().numpy()\n",
    "    y2 = y2[\"image\"].cpu().numpy()\n",
    "    if \"angle\" in z_parts_params_1.keys():\n",
    "        rot_1 = z_parts_params_1[\"angle\"].cpu().numpy()\n",
    "        rot_2 = z_parts_params_2[\"angle\"].cpu().numpy()\n",
    "\n",
    "fig, ax = plt.subplots(nrows=3, ncols=8, figsize=(20, 7))\n",
    "theta = torch.Tensor([0, 0.5 * 90, 1 * 90, 1.5 * 90, 2 * 90, 2.5 * 90, 3 * 90, 3.5 * 90])\n",
    "for i in range(len(theta)):\n",
    "    inp = x_r[\"image\"][i].detach().cpu().numpy()\n",
    "    contour_inp = measure.find_contours(inp, 0.8)[0]\n",
    "    ax[0, i].imshow(inp, cmap=\"gray\")\n",
    "    ax[0, i].plot(contour_inp[:, 1], contour_inp[:, 0], color=\"magenta\", linewidth=5)\n",
    "\n",
    "    contour_yi = measure.find_contours(y[i], 0.8)[0]\n",
    "    contour_y2i = measure.find_contours(y2[i], 0.8)[0]\n",
    "    ax[1, i].imshow(y[i], cmap=\"gray\")\n",
    "    ax[1, i].plot(contour_yi[:, 1], contour_yi[:, 0], color=\"magenta\", linewidth=5)\n",
    "    ax[2, i].imshow(y2[i], cmap=\"gray\")\n",
    "    ax[2, i].plot(contour_y2i[:, 1], contour_y2i[:, 0], color=\"magenta\", linewidth=5)\n",
    "    ax[0, i].set_title(\"%.2f\" % (theta[i].numpy()))\n",
    "plt.setp(plt.gcf().get_axes(), xticks=[], yticks=[])\n",
    "plt.show()\n",
    "# fig.savefig('./pngs_poster/2D_vae_rotate_showequivbyrotation.png')"
   ]
  },
  {
   "cell_type": "code",
   "execution_count": null,
   "id": "e71a7546",
   "metadata": {},
   "outputs": [],
   "source": [
    "measure.find_contours(y[i], 0.8)"
   ]
  },
  {
   "cell_type": "code",
   "execution_count": null,
   "id": "d5013a96",
   "metadata": {},
   "outputs": [],
   "source": [
    "y[i].shape"
   ]
  },
  {
   "cell_type": "code",
   "execution_count": null,
   "id": "ccaa8838",
   "metadata": {},
   "outputs": [],
   "source": [
    "x_r[\"image\"].shape"
   ]
  },
  {
   "cell_type": "code",
   "execution_count": null,
   "id": "36edcb07",
   "metadata": {},
   "outputs": [],
   "source": [
    "ind = 1\n",
    "img_in = x_r[\"image\"][ind].detach().cpu().numpy()\n",
    "img_recon = y[ind]\n",
    "img_recon2 = y2[ind]"
   ]
  },
  {
   "cell_type": "code",
   "execution_count": null,
   "id": "f7315130",
   "metadata": {},
   "outputs": [],
   "source": [
    "# fig, (ax, ax1, ax2) = plt.subplots(1,3, figsize = (10,5))\n",
    "# contour = measure.find_contours(img_in, 0.8)[0]\n",
    "# ax.imshow(img_in, cmap=plt.cm.gray)\n",
    "# ax.plot(contour[:, 1], contour[:, 0], linewidth=2)\n",
    "\n",
    "# contour = measure.find_contours(img_recon, 0.8)[0]\n",
    "# ax1.imshow(img_recon, cmap=plt.cm.gray)\n",
    "# ax1.plot(contour[:, 1], contour[:, 0], linewidth=2)\n",
    "\n",
    "# contour = measure.find_contours(img_recon2, 0.8)[0]\n",
    "# ax2.imshow(img_recon2, cmap=plt.cm.gray)\n",
    "# ax2.plot(contour[:, 1], contour[:, 0], linewidth=2)"
   ]
  },
  {
   "cell_type": "code",
   "execution_count": null,
   "id": "ea081603",
   "metadata": {},
   "outputs": [],
   "source": []
  },
  {
   "cell_type": "code",
   "execution_count": null,
   "id": "783b6c2a",
   "metadata": {},
   "outputs": [],
   "source": [
    "from skimage import measure\n",
    "\n",
    "\n",
    "def save_plot(img_in, img_recon, img_recon2, i, filenames):\n",
    "    fig, (ax, ax1, ax2) = plt.subplots(1, 3, figsize=(10, 5))\n",
    "    contour = measure.find_contours(img_in, 0.8)[0]\n",
    "    ax.imshow(img_in, cmap=plt.cm.gray)\n",
    "    ax.plot(contour[:, 1], contour[:, 0], linewidth=2)\n",
    "\n",
    "    contour = measure.find_contours(img_recon, 0.8)[0]\n",
    "    ax1.imshow(img_recon, cmap=plt.cm.gray)\n",
    "    ax1.plot(contour[:, 1], contour[:, 0], linewidth=2)\n",
    "\n",
    "    contour = measure.find_contours(img_recon2, 0.8)[0]\n",
    "    ax2.imshow(img_recon2, cmap=plt.cm.gray)\n",
    "    ax2.plot(contour[:, 1], contour[:, 0], linewidth=2)\n",
    "\n",
    "    # create file name and append it to a list\n",
    "    filename = f\"{i}.png\"\n",
    "    filenames.append(filename)\n",
    "    fig.savefig(filename)\n",
    "    plt.close()\n",
    "    return filenames"
   ]
  },
  {
   "cell_type": "code",
   "execution_count": null,
   "id": "429c2541",
   "metadata": {},
   "outputs": [],
   "source": [
    "filenames = []\n",
    "# for ind in range(8):\n",
    "for ind in [0, 2, 4, 6]:\n",
    "    img_in = x_r[\"image\"][ind].detach().cpu().numpy()\n",
    "    img_recon = y[ind]\n",
    "    img_recon2 = y2[ind]\n",
    "    filenames = save_plot(img_in, img_recon, img_recon2, ind, filenames)"
   ]
  },
  {
   "cell_type": "code",
   "execution_count": null,
   "id": "97a29967",
   "metadata": {},
   "outputs": [],
   "source": [
    "import os\n",
    "\n",
    "import imageio"
   ]
  },
  {
   "cell_type": "code",
   "execution_count": null,
   "id": "dc464954",
   "metadata": {},
   "outputs": [],
   "source": [
    "img_ind"
   ]
  },
  {
   "cell_type": "code",
   "execution_count": null,
   "id": "f842977a",
   "metadata": {},
   "outputs": [],
   "source": [
    "# for i in y:\n",
    "#     # plot the line chart\n",
    "#     plt.plot(y[:i])\n",
    "#     plt.ylim(20,50)\n",
    "\n",
    "#     # create file name and append it to a list\n",
    "#     filename = f'{i}.png'\n",
    "#     filenames.append(filename)\n",
    "\n",
    "#     # save frame\n",
    "#     plt.savefig(filename)\n",
    "#     plt.close()\n",
    "# build gif\n",
    "with imageio.get_writer(f\"2d_gifs/{img_ind}.gif\", mode=\"I\", fps=2) as writer:\n",
    "    for filename in filenames:\n",
    "        image = imageio.imread(filename)\n",
    "        writer.append_data(image)\n",
    "\n",
    "# Remove files\n",
    "for filename in set(filenames):\n",
    "    os.remove(filename)"
   ]
  },
  {
   "cell_type": "code",
   "execution_count": null,
   "id": "771a676a",
   "metadata": {},
   "outputs": [],
   "source": [
    "# # Display the image and plot all contours found\n",
    "# fig, ax = plt.subplots()\n",
    "# ax.imshow(img_in, cmap=plt.cm.gray)\n",
    "\n",
    "# for contour in contours:\n",
    "#     ax.plot(contour[:, 1], contour[:, 0], linewidth=2)"
   ]
  },
  {
   "cell_type": "code",
   "execution_count": null,
   "id": "14093b45",
   "metadata": {},
   "outputs": [],
   "source": []
  },
  {
   "cell_type": "code",
   "execution_count": null,
   "id": "d186d995",
   "metadata": {},
   "outputs": [],
   "source": [
    "y2.shape"
   ]
  },
  {
   "cell_type": "code",
   "execution_count": null,
   "id": "5cb08ee6",
   "metadata": {},
   "outputs": [],
   "source": [
    "y.shape"
   ]
  },
  {
   "cell_type": "code",
   "execution_count": null,
   "id": "f282ff77",
   "metadata": {},
   "outputs": [],
   "source": []
  }
 ],
 "metadata": {
  "kernelspec": {
   "display_name": "Python 3 (ipykernel)",
   "language": "python",
   "name": "python3"
  },
  "language_info": {
   "codemirror_mode": {
    "name": "ipython",
    "version": 3
   },
   "file_extension": ".py",
   "mimetype": "text/x-python",
   "name": "python",
   "nbconvert_exporter": "python",
   "pygments_lexer": "ipython3",
   "version": "3.9.16"
  }
 },
 "nbformat": 4,
 "nbformat_minor": 5
}
